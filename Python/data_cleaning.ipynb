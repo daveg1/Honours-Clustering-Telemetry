{
 "cells": [
  {
   "cell_type": "markdown",
   "metadata": {},
   "source": [
    "# Data Cleaning"
   ]
  },
  {
   "cell_type": "markdown",
   "metadata": {},
   "source": [
    "## Read File"
   ]
  },
  {
   "cell_type": "code",
   "execution_count": 1,
   "metadata": {},
   "outputs": [],
   "source": [
    "# Imports\n",
    "import pandas as pd\n",
    "telemetry = pd.read_csv('./telemetry.etr', delim_whitespace=True)"
   ]
  },
  {
   "cell_type": "markdown",
   "metadata": {},
   "source": [
    "## Normalise Data\n",
    "In order to anonymise the data, we must normalise the Easting and Northing values. The following formula is used:\n",
    "$$\n",
    "z_i = \\frac{x_i - \\text{min}(x)}{\\text{max}(x)-\\text{min}(x)}\n",
    "$$"
   ]
  },
  {
   "cell_type": "code",
   "execution_count": 2,
   "metadata": {},
   "outputs": [],
   "source": [
    "# Normalisation function\n",
    "def normalise(column: str) -> float:\n",
    "\tmin = telemetry[column].min()\n",
    "\tmax = telemetry[column].max()\n",
    "\tx = telemetry[column]\n",
    "\treturn (x - min) / (max - min)\n",
    "\n",
    "telemetry['Easting'] = normalise('Easting')\n",
    "telemetry['Northing'] = normalise('Northing')"
   ]
  },
  {
   "cell_type": "code",
   "execution_count": 23,
   "metadata": {},
   "outputs": [
    {
     "data": {
      "text/html": [
       "<div>\n",
       "<style scoped>\n",
       "    .dataframe tbody tr th:only-of-type {\n",
       "        vertical-align: middle;\n",
       "    }\n",
       "\n",
       "    .dataframe tbody tr th {\n",
       "        vertical-align: top;\n",
       "    }\n",
       "\n",
       "    .dataframe thead th {\n",
       "        text-align: right;\n",
       "    }\n",
       "</style>\n",
       "<table border=\"1\" class=\"dataframe\">\n",
       "  <thead>\n",
       "    <tr style=\"text-align: right;\">\n",
       "      <th></th>\n",
       "      <th>Date</th>\n",
       "      <th>Time</th>\n",
       "      <th>Easting</th>\n",
       "      <th>Northing</th>\n",
       "      <th>WaterDepth</th>\n",
       "      <th>Roll</th>\n",
       "      <th>Pitch</th>\n",
       "      <th>Heading</th>\n",
       "      <th>Tide</th>\n",
       "    </tr>\n",
       "  </thead>\n",
       "  <tbody>\n",
       "    <tr>\n",
       "      <th>0</th>\n",
       "      <td>20-02-27</td>\n",
       "      <td>20:50:47.502</td>\n",
       "      <td>0.158187</td>\n",
       "      <td>0.410159</td>\n",
       "      <td>92.93</td>\n",
       "      <td>-6.3</td>\n",
       "      <td>2.0</td>\n",
       "      <td>19.9</td>\n",
       "      <td>0.0</td>\n",
       "    </tr>\n",
       "    <tr>\n",
       "      <th>1</th>\n",
       "      <td>20-02-27</td>\n",
       "      <td>20:50:47.502</td>\n",
       "      <td>0.158187</td>\n",
       "      <td>0.410159</td>\n",
       "      <td>5.86</td>\n",
       "      <td>-6.3</td>\n",
       "      <td>2.0</td>\n",
       "      <td>19.9</td>\n",
       "      <td>0.0</td>\n",
       "    </tr>\n",
       "    <tr>\n",
       "      <th>2</th>\n",
       "      <td>20-02-27</td>\n",
       "      <td>20:50:49.416</td>\n",
       "      <td>0.534407</td>\n",
       "      <td>0.535898</td>\n",
       "      <td>5.86</td>\n",
       "      <td>-5.0</td>\n",
       "      <td>3.1</td>\n",
       "      <td>22.8</td>\n",
       "      <td>0.0</td>\n",
       "    </tr>\n",
       "    <tr>\n",
       "      <th>3</th>\n",
       "      <td>20-02-27</td>\n",
       "      <td>20:50:49.416</td>\n",
       "      <td>0.534311</td>\n",
       "      <td>0.535924</td>\n",
       "      <td>6.33</td>\n",
       "      <td>-5.0</td>\n",
       "      <td>3.1</td>\n",
       "      <td>22.8</td>\n",
       "      <td>0.0</td>\n",
       "    </tr>\n",
       "    <tr>\n",
       "      <th>4</th>\n",
       "      <td>20-02-27</td>\n",
       "      <td>20:50:49.416</td>\n",
       "      <td>0.533734</td>\n",
       "      <td>0.536254</td>\n",
       "      <td>7.02</td>\n",
       "      <td>-5.0</td>\n",
       "      <td>3.1</td>\n",
       "      <td>22.8</td>\n",
       "      <td>0.0</td>\n",
       "    </tr>\n",
       "  </tbody>\n",
       "</table>\n",
       "</div>"
      ],
      "text/plain": [
       "       Date          Time   Easting  Northing  WaterDepth  Roll  Pitch  \\\n",
       "0  20-02-27  20:50:47.502  0.158187  0.410159       92.93  -6.3    2.0   \n",
       "1  20-02-27  20:50:47.502  0.158187  0.410159        5.86  -6.3    2.0   \n",
       "2  20-02-27  20:50:49.416  0.534407  0.535898        5.86  -5.0    3.1   \n",
       "3  20-02-27  20:50:49.416  0.534311  0.535924        6.33  -5.0    3.1   \n",
       "4  20-02-27  20:50:49.416  0.533734  0.536254        7.02  -5.0    3.1   \n",
       "\n",
       "   Heading  Tide  \n",
       "0     19.9   0.0  \n",
       "1     19.9   0.0  \n",
       "2     22.8   0.0  \n",
       "3     22.8   0.0  \n",
       "4     22.8   0.0  "
      ]
     },
     "execution_count": 23,
     "metadata": {},
     "output_type": "execute_result"
    }
   ],
   "source": [
    "telemetry.head(5)"
   ]
  },
  {
   "cell_type": "markdown",
   "metadata": {},
   "source": [
    "This has now put the Easting and Northing values in a form that is mathematically equivalent to what they were previously, but are now encoded to protect the actual locations."
   ]
  },
  {
   "cell_type": "markdown",
   "metadata": {},
   "source": [
    "## Empty Values\n",
    "The Tide column appears at first glance to consist only of values of `0.0`. We can check this by finding the unique values:"
   ]
  },
  {
   "cell_type": "code",
   "execution_count": 3,
   "metadata": {},
   "outputs": [
    {
     "data": {
      "text/plain": [
       "array([0.])"
      ]
     },
     "execution_count": 3,
     "metadata": {},
     "output_type": "execute_result"
    }
   ],
   "source": [
    "telemetry['Tide'].unique()"
   ]
  },
  {
   "cell_type": "markdown",
   "metadata": {},
   "source": [
    "As suspected, the only value returned was 0.0. This won't be useful to the model, so we can drop this column."
   ]
  },
  {
   "cell_type": "code",
   "execution_count": 4,
   "metadata": {},
   "outputs": [
    {
     "data": {
      "text/html": [
       "<div>\n",
       "<style scoped>\n",
       "    .dataframe tbody tr th:only-of-type {\n",
       "        vertical-align: middle;\n",
       "    }\n",
       "\n",
       "    .dataframe tbody tr th {\n",
       "        vertical-align: top;\n",
       "    }\n",
       "\n",
       "    .dataframe thead th {\n",
       "        text-align: right;\n",
       "    }\n",
       "</style>\n",
       "<table border=\"1\" class=\"dataframe\">\n",
       "  <thead>\n",
       "    <tr style=\"text-align: right;\">\n",
       "      <th></th>\n",
       "      <th>Date</th>\n",
       "      <th>Time</th>\n",
       "      <th>Easting</th>\n",
       "      <th>Northing</th>\n",
       "      <th>WaterDepth</th>\n",
       "      <th>Roll</th>\n",
       "      <th>Pitch</th>\n",
       "      <th>Heading</th>\n",
       "    </tr>\n",
       "  </thead>\n",
       "  <tbody>\n",
       "    <tr>\n",
       "      <th>0</th>\n",
       "      <td>20-02-27</td>\n",
       "      <td>20:50:47.502</td>\n",
       "      <td>0.158187</td>\n",
       "      <td>0.410159</td>\n",
       "      <td>92.93</td>\n",
       "      <td>-6.3</td>\n",
       "      <td>2.0</td>\n",
       "      <td>19.9</td>\n",
       "    </tr>\n",
       "    <tr>\n",
       "      <th>1</th>\n",
       "      <td>20-02-27</td>\n",
       "      <td>20:50:47.502</td>\n",
       "      <td>0.158187</td>\n",
       "      <td>0.410159</td>\n",
       "      <td>5.86</td>\n",
       "      <td>-6.3</td>\n",
       "      <td>2.0</td>\n",
       "      <td>19.9</td>\n",
       "    </tr>\n",
       "    <tr>\n",
       "      <th>2</th>\n",
       "      <td>20-02-27</td>\n",
       "      <td>20:50:49.416</td>\n",
       "      <td>0.534407</td>\n",
       "      <td>0.535898</td>\n",
       "      <td>5.86</td>\n",
       "      <td>-5.0</td>\n",
       "      <td>3.1</td>\n",
       "      <td>22.8</td>\n",
       "    </tr>\n",
       "    <tr>\n",
       "      <th>3</th>\n",
       "      <td>20-02-27</td>\n",
       "      <td>20:50:49.416</td>\n",
       "      <td>0.534311</td>\n",
       "      <td>0.535924</td>\n",
       "      <td>6.33</td>\n",
       "      <td>-5.0</td>\n",
       "      <td>3.1</td>\n",
       "      <td>22.8</td>\n",
       "    </tr>\n",
       "    <tr>\n",
       "      <th>4</th>\n",
       "      <td>20-02-27</td>\n",
       "      <td>20:50:49.416</td>\n",
       "      <td>0.533734</td>\n",
       "      <td>0.536254</td>\n",
       "      <td>7.02</td>\n",
       "      <td>-5.0</td>\n",
       "      <td>3.1</td>\n",
       "      <td>22.8</td>\n",
       "    </tr>\n",
       "  </tbody>\n",
       "</table>\n",
       "</div>"
      ],
      "text/plain": [
       "       Date          Time   Easting  Northing  WaterDepth  Roll  Pitch  \\\n",
       "0  20-02-27  20:50:47.502  0.158187  0.410159       92.93  -6.3    2.0   \n",
       "1  20-02-27  20:50:47.502  0.158187  0.410159        5.86  -6.3    2.0   \n",
       "2  20-02-27  20:50:49.416  0.534407  0.535898        5.86  -5.0    3.1   \n",
       "3  20-02-27  20:50:49.416  0.534311  0.535924        6.33  -5.0    3.1   \n",
       "4  20-02-27  20:50:49.416  0.533734  0.536254        7.02  -5.0    3.1   \n",
       "\n",
       "   Heading  \n",
       "0     19.9  \n",
       "1     19.9  \n",
       "2     22.8  \n",
       "3     22.8  \n",
       "4     22.8  "
      ]
     },
     "execution_count": 4,
     "metadata": {},
     "output_type": "execute_result"
    }
   ],
   "source": [
    "# Drop unnecessary fields\n",
    "telemetry_select = telemetry.drop(columns=['Tide'], inplace=False)\n",
    "telemetry_select.head(5)"
   ]
  },
  {
   "cell_type": "markdown",
   "metadata": {},
   "source": [
    "## Write to CSV\n",
    "Now that we have processed the telemetry, we can write the dataframe to a file. Previously the format was ETR, but since this is equivalent to a space-delimited CSV, we have opted to write the data to a CSV to put it in a more commonly understood format."
   ]
  },
  {
   "cell_type": "code",
   "execution_count": 5,
   "metadata": {},
   "outputs": [],
   "source": [
    "telemetry_select.to_csv('../ProcessView/Data/telemetry.csv', index=False)"
   ]
  }
 ],
 "metadata": {
  "kernelspec": {
   "display_name": "Python 3.11.0 64-bit",
   "language": "python",
   "name": "python3"
  },
  "language_info": {
   "codemirror_mode": {
    "name": "ipython",
    "version": 3
   },
   "file_extension": ".py",
   "mimetype": "text/x-python",
   "name": "python",
   "nbconvert_exporter": "python",
   "pygments_lexer": "ipython3",
   "version": "3.11.0"
  },
  "orig_nbformat": 4,
  "vscode": {
   "interpreter": {
    "hash": "c261aea317cc0286b3b3261fbba9abdec21eaa57589985bb7a274bf54d6cc0a7"
   }
  }
 },
 "nbformat": 4,
 "nbformat_minor": 2
}
