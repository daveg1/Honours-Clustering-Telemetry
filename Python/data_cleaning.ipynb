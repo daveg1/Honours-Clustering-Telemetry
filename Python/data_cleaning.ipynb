{
 "cells": [
  {
   "cell_type": "code",
   "execution_count": 22,
   "metadata": {},
   "outputs": [],
   "source": [
    "# Imports\n",
    "from sklearn.cluster import DBSCAN\n",
    "import numpy as np\n",
    "import pandas as pd\n",
    "\n",
    "random_state=1911734"
   ]
  },
  {
   "cell_type": "code",
   "execution_count": 34,
   "metadata": {},
   "outputs": [],
   "source": [
    "telemetry = pd.read_csv('./telemetry.etr', delim_whitespace=True)"
   ]
  },
  {
   "cell_type": "code",
   "execution_count": 35,
   "metadata": {},
   "outputs": [],
   "source": [
    "# Normalise data\n",
    "def normalise(column: str):\n",
    "\tmin = telemetry[column].min()\n",
    "\tmax = telemetry[column].max()\n",
    "\tx = telemetry[column]\n",
    "\treturn (x - min) / (max - min)\n",
    "\n",
    "telemetry['Easting'] = normalise('Easting')\n",
    "telemetry['Northing'] = normalise('Northing')"
   ]
  },
  {
   "cell_type": "code",
   "execution_count": 36,
   "metadata": {},
   "outputs": [
    {
     "data": {
      "text/html": [
       "<div>\n",
       "<style scoped>\n",
       "    .dataframe tbody tr th:only-of-type {\n",
       "        vertical-align: middle;\n",
       "    }\n",
       "\n",
       "    .dataframe tbody tr th {\n",
       "        vertical-align: top;\n",
       "    }\n",
       "\n",
       "    .dataframe thead th {\n",
       "        text-align: right;\n",
       "    }\n",
       "</style>\n",
       "<table border=\"1\" class=\"dataframe\">\n",
       "  <thead>\n",
       "    <tr style=\"text-align: right;\">\n",
       "      <th></th>\n",
       "      <th>Date</th>\n",
       "      <th>Time</th>\n",
       "      <th>Easting</th>\n",
       "      <th>Northing</th>\n",
       "      <th>WaterDepth</th>\n",
       "      <th>Roll</th>\n",
       "      <th>Pitch</th>\n",
       "      <th>Heading</th>\n",
       "      <th>Tide</th>\n",
       "    </tr>\n",
       "  </thead>\n",
       "  <tbody>\n",
       "    <tr>\n",
       "      <th>0</th>\n",
       "      <td>20-02-27</td>\n",
       "      <td>20:50:47.502</td>\n",
       "      <td>0.158187</td>\n",
       "      <td>0.410159</td>\n",
       "      <td>92.93</td>\n",
       "      <td>-6.3</td>\n",
       "      <td>2.0</td>\n",
       "      <td>19.9</td>\n",
       "      <td>0.0</td>\n",
       "    </tr>\n",
       "    <tr>\n",
       "      <th>1</th>\n",
       "      <td>20-02-27</td>\n",
       "      <td>20:50:47.502</td>\n",
       "      <td>0.158187</td>\n",
       "      <td>0.410159</td>\n",
       "      <td>5.86</td>\n",
       "      <td>-6.3</td>\n",
       "      <td>2.0</td>\n",
       "      <td>19.9</td>\n",
       "      <td>0.0</td>\n",
       "    </tr>\n",
       "    <tr>\n",
       "      <th>2</th>\n",
       "      <td>20-02-27</td>\n",
       "      <td>20:50:49.416</td>\n",
       "      <td>0.534407</td>\n",
       "      <td>0.535898</td>\n",
       "      <td>5.86</td>\n",
       "      <td>-5.0</td>\n",
       "      <td>3.1</td>\n",
       "      <td>22.8</td>\n",
       "      <td>0.0</td>\n",
       "    </tr>\n",
       "    <tr>\n",
       "      <th>3</th>\n",
       "      <td>20-02-27</td>\n",
       "      <td>20:50:49.416</td>\n",
       "      <td>0.534311</td>\n",
       "      <td>0.535924</td>\n",
       "      <td>6.33</td>\n",
       "      <td>-5.0</td>\n",
       "      <td>3.1</td>\n",
       "      <td>22.8</td>\n",
       "      <td>0.0</td>\n",
       "    </tr>\n",
       "    <tr>\n",
       "      <th>4</th>\n",
       "      <td>20-02-27</td>\n",
       "      <td>20:50:49.416</td>\n",
       "      <td>0.533734</td>\n",
       "      <td>0.536254</td>\n",
       "      <td>7.02</td>\n",
       "      <td>-5.0</td>\n",
       "      <td>3.1</td>\n",
       "      <td>22.8</td>\n",
       "      <td>0.0</td>\n",
       "    </tr>\n",
       "  </tbody>\n",
       "</table>\n",
       "</div>"
      ],
      "text/plain": [
       "       Date          Time   Easting  Northing  WaterDepth  Roll  Pitch  \\\n",
       "0  20-02-27  20:50:47.502  0.158187  0.410159       92.93  -6.3    2.0   \n",
       "1  20-02-27  20:50:47.502  0.158187  0.410159        5.86  -6.3    2.0   \n",
       "2  20-02-27  20:50:49.416  0.534407  0.535898        5.86  -5.0    3.1   \n",
       "3  20-02-27  20:50:49.416  0.534311  0.535924        6.33  -5.0    3.1   \n",
       "4  20-02-27  20:50:49.416  0.533734  0.536254        7.02  -5.0    3.1   \n",
       "\n",
       "   Heading  Tide  \n",
       "0     19.9   0.0  \n",
       "1     19.9   0.0  \n",
       "2     22.8   0.0  \n",
       "3     22.8   0.0  \n",
       "4     22.8   0.0  "
      ]
     },
     "execution_count": 36,
     "metadata": {},
     "output_type": "execute_result"
    }
   ],
   "source": [
    "telemetry.head(5)"
   ]
  },
  {
   "cell_type": "code",
   "execution_count": 37,
   "metadata": {},
   "outputs": [],
   "source": [
    "# Drop unnecessary fields\n",
    "filtered = telemetry.drop(columns=['Date', 'Time', 'Tide'], inplace=False)\n",
    "\n",
    "# Take sample for testing\n",
    "telemetry_sample = filtered.sample(frac=0.2, replace=False, random_state=random_state)"
   ]
  },
  {
   "cell_type": "code",
   "execution_count": 38,
   "metadata": {},
   "outputs": [],
   "source": [
    "# Perform clustering\n",
    "clustering = DBSCAN(eps=3, min_samples=2).fit(telemetry_sample)"
   ]
  },
  {
   "cell_type": "code",
   "execution_count": null,
   "metadata": {},
   "outputs": [],
   "source": [
    "# Unique labels\n",
    "np.unique(clustering.labels_)"
   ]
  },
  {
   "cell_type": "code",
   "execution_count": null,
   "metadata": {},
   "outputs": [],
   "source": []
  }
 ],
 "metadata": {
  "kernelspec": {
   "display_name": "Python 3",
   "language": "python",
   "name": "python3"
  },
  "language_info": {
   "codemirror_mode": {
    "name": "ipython",
    "version": 3
   },
   "file_extension": ".py",
   "mimetype": "text/x-python",
   "name": "python",
   "nbconvert_exporter": "python",
   "pygments_lexer": "ipython3",
   "version": "3.10.2"
  },
  "orig_nbformat": 4,
  "vscode": {
   "interpreter": {
    "hash": "901b79e026e03396fd1ffa7133844e9ea80e258ce34c66e1aabb5896bcb18463"
   }
  }
 },
 "nbformat": 4,
 "nbformat_minor": 2
}
