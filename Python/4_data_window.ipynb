{
 "cells": [
  {
   "cell_type": "code",
   "execution_count": 1,
   "metadata": {},
   "outputs": [],
   "source": [
    "import pandas as pd\n",
    "from sklearn.cluster import DBSCAN\n",
    "from sklearn import metrics\n",
    "import matplotlib.pyplot as plt"
   ]
  },
  {
   "cell_type": "code",
   "execution_count": 2,
   "metadata": {},
   "outputs": [],
   "source": [
    "# Read data (first leg of journey)\n",
    "telemetry = pd.read_csv('./telemetry_cleaned.csv')\n",
    "X = telemetry[['Easting', 'Northing', 'WaterDepth']]"
   ]
  },
  {
   "attachments": {},
   "cell_type": "markdown",
   "metadata": {},
   "source": [
    "### Windowed Clustering\n",
    "\n",
    "This technique involves breaking the points into chunks, the size of each chunk being defined by a `window` variable. DBSCAN clustering is then applied to each chunk and a list of labeled chunks is produced."
   ]
  },
  {
   "cell_type": "code",
   "execution_count": 3,
   "metadata": {},
   "outputs": [
    {
     "name": "stdout",
     "output_type": "stream",
     "text": [
      "Starting chunk 0.0\n",
      "Completed chunk 0.0\n",
      "Starting chunk 1.0\n",
      "Completed chunk 1.0\n",
      "Starting chunk 2.0\n",
      "Completed chunk 2.0\n",
      "Starting chunk 3.0\n",
      "Completed chunk 3.0\n",
      "Starting chunk 4.0\n",
      "Completed chunk 4.0\n",
      "Starting chunk 5.0\n",
      "Completed chunk 5.0\n",
      "Starting chunk 6.0\n",
      "Completed chunk 6.0\n",
      "Starting chunk 7.0\n",
      "Completed chunk 7.0\n",
      "Starting chunk 8.0\n",
      "Completed chunk 8.0\n",
      "Starting chunk 9.0\n",
      "Completed chunk 9.0\n",
      "Starting chunk 10.0\n",
      "Completed chunk 10.0\n",
      "Starting chunk 11.0\n",
      "Completed chunk 11.0\n",
      "Starting chunk 12.0\n",
      "Completed chunk 12.0\n",
      "Starting chunk 13.0\n",
      "Completed chunk 13.0\n",
      "Starting chunk 14.0\n",
      "Completed chunk 14.0\n",
      "Starting chunk 15.0\n",
      "Completed chunk 15.0\n",
      "Starting chunk 16.0\n",
      "Completed chunk 16.0\n",
      "Starting chunk 17.0\n",
      "Completed chunk 17.0\n",
      "Starting chunk 18.0\n",
      "Completed chunk 18.0\n",
      "Starting chunk 19.0\n",
      "Completed chunk 19.0\n",
      "Starting chunk 20.0\n",
      "Completed chunk 20.0\n",
      "Starting chunk 21.0\n",
      "Completed chunk 21.0\n",
      "Starting chunk 22.0\n",
      "Completed chunk 22.0\n",
      "Starting chunk 23.0\n",
      "Completed chunk 23.0\n",
      "Starting chunk 24.0\n",
      "Completed chunk 24.0\n",
      "Starting chunk 25.0\n",
      "Completed chunk 25.0\n",
      "Starting chunk 26.0\n",
      "Completed chunk 26.0\n",
      "Starting chunk 27.0\n",
      "Completed chunk 27.0\n",
      "Starting chunk 28.0\n",
      "Completed chunk 28.0\n",
      "Starting chunk 29.0\n",
      "Completed chunk 29.0\n",
      "Starting chunk 30.0\n",
      "Completed chunk 30.0\n",
      "Starting chunk 31.0\n",
      "Completed chunk 31.0\n",
      "Starting chunk 32.0\n",
      "Completed chunk 32.0\n",
      "Starting chunk 33.0\n",
      "Completed chunk 33.0\n",
      "Using a window of 10000 points, 34 chunks were created\n"
     ]
    }
   ],
   "source": [
    "window_size = 10000\n",
    "\n",
    "def windowed_clustering(data, verbose=False):\n",
    "\tchunks = []\n",
    "\tresults = []\n",
    "\tindex = 0\n",
    "\n",
    "\twhile index <= data.shape[0]:\n",
    "\t\t# Get window (chunk)\n",
    "\t\tchunk = data.iloc[index:index+window_size]\n",
    "\n",
    "\t\tif verbose:\n",
    "\t\t\tprint('Starting chunk', index/window_size)\n",
    "\n",
    "\t\t# Run clustering and append chunk\n",
    "\t\tdb = DBSCAN(eps=0.15, min_samples=9).fit(chunk)\n",
    "\t\tchunk = chunk.assign(Label=db.labels_)\n",
    "\t\tchunks.append(chunk)\n",
    "\n",
    "\t\tsilhouette = metrics.silhouette_score(chunk, db.labels_)\n",
    "\t\tdavies_bouldin = metrics.davies_bouldin_score(chunk, db.labels_)\n",
    "\n",
    "\t\tresults.append({\n",
    "\t\t\t'silhouette': silhouette,\n",
    "\t\t\t'davies_bouldin': davies_bouldin\n",
    "\t\t})\n",
    "\n",
    "\t\tif verbose:\n",
    "\t\t\tprint('Completed chunk', index/window_size)\n",
    "\n",
    "\t\tindex += window_size\n",
    "\n",
    "\treturn (chunks, pd.DataFrame(results))\n",
    "\n",
    "chunks, results = windowed_clustering(X, True)\n",
    "print(f'Using a window of {window_size} points, {len(chunks)} chunks were created')"
   ]
  },
  {
   "attachments": {},
   "cell_type": "markdown",
   "metadata": {},
   "source": [
    "Denoise chunks:"
   ]
  },
  {
   "cell_type": "code",
   "execution_count": 4,
   "metadata": {},
   "outputs": [],
   "source": [
    "X_denoised = pd.concat(chunks)\n",
    "X_denoised = X_denoised[X_denoised['Label'] != -1]"
   ]
  },
  {
   "cell_type": "code",
   "execution_count": 11,
   "metadata": {},
   "outputs": [
    {
     "data": {
      "text/plain": [
       "array([ 0,  1,  7,  2,  3,  8,  9,  6,  4,  5, 10, 11, 12, 13, 14, 15, 16,\n",
       "       24, 17, 18, 19, 20, 21, 22, 23], dtype=int64)"
      ]
     },
     "execution_count": 11,
     "metadata": {},
     "output_type": "execute_result"
    }
   ],
   "source": [
    "X_denoised['Label'].unique()"
   ]
  },
  {
   "cell_type": "code",
   "execution_count": 6,
   "metadata": {},
   "outputs": [
    {
     "data": {
      "text/html": [
       "<div>\n",
       "<style scoped>\n",
       "    .dataframe tbody tr th:only-of-type {\n",
       "        vertical-align: middle;\n",
       "    }\n",
       "\n",
       "    .dataframe tbody tr th {\n",
       "        vertical-align: top;\n",
       "    }\n",
       "\n",
       "    .dataframe thead th {\n",
       "        text-align: right;\n",
       "    }\n",
       "</style>\n",
       "<table border=\"1\" class=\"dataframe\">\n",
       "  <thead>\n",
       "    <tr style=\"text-align: right;\">\n",
       "      <th></th>\n",
       "      <th>silhouette</th>\n",
       "      <th>davies_bouldin</th>\n",
       "    </tr>\n",
       "  </thead>\n",
       "  <tbody>\n",
       "    <tr>\n",
       "      <th>0</th>\n",
       "      <td>0.740366</td>\n",
       "      <td>1.016321</td>\n",
       "    </tr>\n",
       "    <tr>\n",
       "      <th>1</th>\n",
       "      <td>0.180938</td>\n",
       "      <td>1.914002</td>\n",
       "    </tr>\n",
       "    <tr>\n",
       "      <th>2</th>\n",
       "      <td>0.012264</td>\n",
       "      <td>0.902779</td>\n",
       "    </tr>\n",
       "    <tr>\n",
       "      <th>3</th>\n",
       "      <td>0.389480</td>\n",
       "      <td>1.415835</td>\n",
       "    </tr>\n",
       "    <tr>\n",
       "      <th>4</th>\n",
       "      <td>0.805022</td>\n",
       "      <td>1.343084</td>\n",
       "    </tr>\n",
       "    <tr>\n",
       "      <th>5</th>\n",
       "      <td>-0.283559</td>\n",
       "      <td>0.909483</td>\n",
       "    </tr>\n",
       "    <tr>\n",
       "      <th>6</th>\n",
       "      <td>-0.146798</td>\n",
       "      <td>1.134236</td>\n",
       "    </tr>\n",
       "    <tr>\n",
       "      <th>7</th>\n",
       "      <td>0.404491</td>\n",
       "      <td>0.307508</td>\n",
       "    </tr>\n",
       "    <tr>\n",
       "      <th>8</th>\n",
       "      <td>0.634792</td>\n",
       "      <td>0.580648</td>\n",
       "    </tr>\n",
       "    <tr>\n",
       "      <th>9</th>\n",
       "      <td>0.737039</td>\n",
       "      <td>0.649317</td>\n",
       "    </tr>\n",
       "    <tr>\n",
       "      <th>10</th>\n",
       "      <td>0.416200</td>\n",
       "      <td>1.116062</td>\n",
       "    </tr>\n",
       "    <tr>\n",
       "      <th>11</th>\n",
       "      <td>0.171138</td>\n",
       "      <td>0.723444</td>\n",
       "    </tr>\n",
       "    <tr>\n",
       "      <th>12</th>\n",
       "      <td>-0.083020</td>\n",
       "      <td>0.805849</td>\n",
       "    </tr>\n",
       "    <tr>\n",
       "      <th>13</th>\n",
       "      <td>0.460677</td>\n",
       "      <td>4.111081</td>\n",
       "    </tr>\n",
       "    <tr>\n",
       "      <th>14</th>\n",
       "      <td>0.282246</td>\n",
       "      <td>2.615239</td>\n",
       "    </tr>\n",
       "    <tr>\n",
       "      <th>15</th>\n",
       "      <td>0.044894</td>\n",
       "      <td>0.915238</td>\n",
       "    </tr>\n",
       "    <tr>\n",
       "      <th>16</th>\n",
       "      <td>0.683410</td>\n",
       "      <td>0.601930</td>\n",
       "    </tr>\n",
       "    <tr>\n",
       "      <th>17</th>\n",
       "      <td>0.312764</td>\n",
       "      <td>1.134668</td>\n",
       "    </tr>\n",
       "    <tr>\n",
       "      <th>18</th>\n",
       "      <td>0.451816</td>\n",
       "      <td>0.535151</td>\n",
       "    </tr>\n",
       "    <tr>\n",
       "      <th>19</th>\n",
       "      <td>0.059714</td>\n",
       "      <td>1.527454</td>\n",
       "    </tr>\n",
       "    <tr>\n",
       "      <th>20</th>\n",
       "      <td>0.609591</td>\n",
       "      <td>0.502414</td>\n",
       "    </tr>\n",
       "    <tr>\n",
       "      <th>21</th>\n",
       "      <td>0.661558</td>\n",
       "      <td>1.283626</td>\n",
       "    </tr>\n",
       "    <tr>\n",
       "      <th>22</th>\n",
       "      <td>0.628657</td>\n",
       "      <td>0.735857</td>\n",
       "    </tr>\n",
       "    <tr>\n",
       "      <th>23</th>\n",
       "      <td>0.192365</td>\n",
       "      <td>1.112869</td>\n",
       "    </tr>\n",
       "    <tr>\n",
       "      <th>24</th>\n",
       "      <td>0.458395</td>\n",
       "      <td>0.468072</td>\n",
       "    </tr>\n",
       "    <tr>\n",
       "      <th>25</th>\n",
       "      <td>0.630421</td>\n",
       "      <td>0.385623</td>\n",
       "    </tr>\n",
       "    <tr>\n",
       "      <th>26</th>\n",
       "      <td>0.678065</td>\n",
       "      <td>0.229526</td>\n",
       "    </tr>\n",
       "    <tr>\n",
       "      <th>27</th>\n",
       "      <td>-0.332896</td>\n",
       "      <td>1.725453</td>\n",
       "    </tr>\n",
       "    <tr>\n",
       "      <th>28</th>\n",
       "      <td>0.868741</td>\n",
       "      <td>1.465306</td>\n",
       "    </tr>\n",
       "    <tr>\n",
       "      <th>29</th>\n",
       "      <td>0.671213</td>\n",
       "      <td>0.200363</td>\n",
       "    </tr>\n",
       "    <tr>\n",
       "      <th>30</th>\n",
       "      <td>0.313469</td>\n",
       "      <td>2.146033</td>\n",
       "    </tr>\n",
       "    <tr>\n",
       "      <th>31</th>\n",
       "      <td>0.816281</td>\n",
       "      <td>1.240032</td>\n",
       "    </tr>\n",
       "    <tr>\n",
       "      <th>32</th>\n",
       "      <td>0.732632</td>\n",
       "      <td>0.794454</td>\n",
       "    </tr>\n",
       "    <tr>\n",
       "      <th>33</th>\n",
       "      <td>0.666087</td>\n",
       "      <td>0.937012</td>\n",
       "    </tr>\n",
       "  </tbody>\n",
       "</table>\n",
       "</div>"
      ],
      "text/plain": [
       "    silhouette  davies_bouldin\n",
       "0     0.740366        1.016321\n",
       "1     0.180938        1.914002\n",
       "2     0.012264        0.902779\n",
       "3     0.389480        1.415835\n",
       "4     0.805022        1.343084\n",
       "5    -0.283559        0.909483\n",
       "6    -0.146798        1.134236\n",
       "7     0.404491        0.307508\n",
       "8     0.634792        0.580648\n",
       "9     0.737039        0.649317\n",
       "10    0.416200        1.116062\n",
       "11    0.171138        0.723444\n",
       "12   -0.083020        0.805849\n",
       "13    0.460677        4.111081\n",
       "14    0.282246        2.615239\n",
       "15    0.044894        0.915238\n",
       "16    0.683410        0.601930\n",
       "17    0.312764        1.134668\n",
       "18    0.451816        0.535151\n",
       "19    0.059714        1.527454\n",
       "20    0.609591        0.502414\n",
       "21    0.661558        1.283626\n",
       "22    0.628657        0.735857\n",
       "23    0.192365        1.112869\n",
       "24    0.458395        0.468072\n",
       "25    0.630421        0.385623\n",
       "26    0.678065        0.229526\n",
       "27   -0.332896        1.725453\n",
       "28    0.868741        1.465306\n",
       "29    0.671213        0.200363\n",
       "30    0.313469        2.146033\n",
       "31    0.816281        1.240032\n",
       "32    0.732632        0.794454\n",
       "33    0.666087        0.937012"
      ]
     },
     "execution_count": 6,
     "metadata": {},
     "output_type": "execute_result"
    }
   ],
   "source": [
    "pd.DataFrame(results)"
   ]
  },
  {
   "cell_type": "code",
   "execution_count": 7,
   "metadata": {},
   "outputs": [
    {
     "data": {
      "text/plain": [
       "<matplotlib.lines.Line2D at 0x1dbf384b010>"
      ]
     },
     "execution_count": 7,
     "metadata": {},
     "output_type": "execute_result"
    },
    {
     "data": {
      "image/png": "[encoded data removed]",
      "text/plain": [
       "<Figure size 640x480 with 1 Axes>"
      ]
     },
     "metadata": {},
     "output_type": "display_data"
    }
   ],
   "source": [
    "ax1 = results.plot(y='silhouette', xlabel='chunk', ylabel='score', ylim=(-1,1), title='Windowing Silhouette Scores')\n",
    "ax1.axhline(0, color='red')"
   ]
  },
  {
   "cell_type": "code",
   "execution_count": 8,
   "metadata": {},
   "outputs": [
    {
     "data": {
      "text/plain": [
       "<matplotlib.lines.Line2D at 0x1dbb6466a40>"
      ]
     },
     "execution_count": 8,
     "metadata": {},
     "output_type": "execute_result"
    },
    {
     "data": {
      "image/png": "[encoded data removed]",
      "text/plain": [
       "<Figure size 640x480 with 1 Axes>"
      ]
     },
     "metadata": {},
     "output_type": "display_data"
    }
   ],
   "source": [
    "ax2 = results.plot(y='davies_bouldin', xlabel='chunk', ylabel='score', ylim=(-1,5))\n",
    "ax2.axhline(0, color='red')"
   ]
  },
  {
   "cell_type": "code",
   "execution_count": null,
   "metadata": {},
   "outputs": [],
   "source": []
  }
 ],
 "metadata": {
  "kernelspec": {
   "display_name": "Python 3",
   "language": "python",
   "name": "python3"
  },
  "language_info": {
   "codemirror_mode": {
    "name": "ipython",
    "version": 3
   },
   "file_extension": ".py",
   "mimetype": "text/x-python",
   "name": "python",
   "nbconvert_exporter": "python",
   "pygments_lexer": "ipython3",
   "version": "3.10.2"
  },
  "orig_nbformat": 4
 },
 "nbformat": 4,
 "nbformat_minor": 2
}
