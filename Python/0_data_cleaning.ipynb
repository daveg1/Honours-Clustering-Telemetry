{
 "cells": [
  {
   "cell_type": "markdown",
   "metadata": {},
   "source": [
    "# Data Cleaning"
   ]
  },
  {
   "cell_type": "markdown",
   "metadata": {},
   "source": [
    "## Read File"
   ]
  },
  {
   "cell_type": "code",
   "execution_count": 1,
   "metadata": {},
   "outputs": [],
   "source": [
    "# Imports\n",
    "import pandas as pd\n",
    "telemetry = pd.read_csv('./telemetry.etr', delim_whitespace=True)"
   ]
  },
  {
   "cell_type": "markdown",
   "metadata": {},
   "source": [
    "## Normalise Data\n",
    "In order to anonymise the data, we must normalise the Easting and Northing values. The following formula is used:\n",
    "$$\n",
    "z_i = \\frac{x_i - \\text{min}(x)}{\\text{max}(x)-\\text{min}(x)}\n",
    "$$"
   ]
  },
  {
   "cell_type": "code",
   "execution_count": 3,
   "metadata": {},
   "outputs": [],
   "source": [
    "# Normalisation function\n",
    "def normalise(column: str) -> float:\n",
    "\tmin = telemetry[column].min()\n",
    "\tmax = telemetry[column].max()\n",
    "\tx = telemetry[column]\n",
    "\treturn (x - min) / (max - min)\n",
    "\n",
    "telemetry['Easting'] = normalise('Easting')\n",
    "telemetry['Northing'] = normalise('Northing')\n",
    "telemetry['WaterDepth'] = normalise('WaterDepth')"
   ]
  },
  {
   "cell_type": "code",
   "execution_count": 4,
   "metadata": {},
   "outputs": [
    {
     "data": {
      "text/html": [
       "<div>\n",
       "<style scoped>\n",
       "    .dataframe tbody tr th:only-of-type {\n",
       "        vertical-align: middle;\n",
       "    }\n",
       "\n",
       "    .dataframe tbody tr th {\n",
       "        vertical-align: top;\n",
       "    }\n",
       "\n",
       "    .dataframe thead th {\n",
       "        text-align: right;\n",
       "    }\n",
       "</style>\n",
       "<table border=\"1\" class=\"dataframe\">\n",
       "  <thead>\n",
       "    <tr style=\"text-align: right;\">\n",
       "      <th></th>\n",
       "      <th>Date</th>\n",
       "      <th>Time</th>\n",
       "      <th>Easting</th>\n",
       "      <th>Northing</th>\n",
       "      <th>WaterDepth</th>\n",
       "      <th>Roll</th>\n",
       "      <th>Pitch</th>\n",
       "      <th>Heading</th>\n",
       "      <th>Tide</th>\n",
       "    </tr>\n",
       "  </thead>\n",
       "  <tbody>\n",
       "    <tr>\n",
       "      <th>0</th>\n",
       "      <td>20-02-27</td>\n",
       "      <td>20:50:47.502</td>\n",
       "      <td>0.158187</td>\n",
       "      <td>0.410159</td>\n",
       "      <td>0.619607</td>\n",
       "      <td>-6.3</td>\n",
       "      <td>2.0</td>\n",
       "      <td>19.9</td>\n",
       "      <td>0.0</td>\n",
       "    </tr>\n",
       "    <tr>\n",
       "      <th>1</th>\n",
       "      <td>20-02-27</td>\n",
       "      <td>20:50:47.502</td>\n",
       "      <td>0.158187</td>\n",
       "      <td>0.410159</td>\n",
       "      <td>0.038946</td>\n",
       "      <td>-6.3</td>\n",
       "      <td>2.0</td>\n",
       "      <td>19.9</td>\n",
       "      <td>0.0</td>\n",
       "    </tr>\n",
       "    <tr>\n",
       "      <th>2</th>\n",
       "      <td>20-02-27</td>\n",
       "      <td>20:50:49.416</td>\n",
       "      <td>0.534407</td>\n",
       "      <td>0.535898</td>\n",
       "      <td>0.038946</td>\n",
       "      <td>-5.0</td>\n",
       "      <td>3.1</td>\n",
       "      <td>22.8</td>\n",
       "      <td>0.0</td>\n",
       "    </tr>\n",
       "    <tr>\n",
       "      <th>3</th>\n",
       "      <td>20-02-27</td>\n",
       "      <td>20:50:49.416</td>\n",
       "      <td>0.534311</td>\n",
       "      <td>0.535924</td>\n",
       "      <td>0.042081</td>\n",
       "      <td>-5.0</td>\n",
       "      <td>3.1</td>\n",
       "      <td>22.8</td>\n",
       "      <td>0.0</td>\n",
       "    </tr>\n",
       "    <tr>\n",
       "      <th>4</th>\n",
       "      <td>20-02-27</td>\n",
       "      <td>20:50:49.416</td>\n",
       "      <td>0.533734</td>\n",
       "      <td>0.536254</td>\n",
       "      <td>0.046682</td>\n",
       "      <td>-5.0</td>\n",
       "      <td>3.1</td>\n",
       "      <td>22.8</td>\n",
       "      <td>0.0</td>\n",
       "    </tr>\n",
       "  </tbody>\n",
       "</table>\n",
       "</div>"
      ],
      "text/plain": [
       "       Date          Time   Easting  Northing  WaterDepth  Roll  Pitch  \\\n",
       "0  20-02-27  20:50:47.502  0.158187  0.410159    0.619607  -6.3    2.0   \n",
       "1  20-02-27  20:50:47.502  0.158187  0.410159    0.038946  -6.3    2.0   \n",
       "2  20-02-27  20:50:49.416  0.534407  0.535898    0.038946  -5.0    3.1   \n",
       "3  20-02-27  20:50:49.416  0.534311  0.535924    0.042081  -5.0    3.1   \n",
       "4  20-02-27  20:50:49.416  0.533734  0.536254    0.046682  -5.0    3.1   \n",
       "\n",
       "   Heading  Tide  \n",
       "0     19.9   0.0  \n",
       "1     19.9   0.0  \n",
       "2     22.8   0.0  \n",
       "3     22.8   0.0  \n",
       "4     22.8   0.0  "
      ]
     },
     "execution_count": 4,
     "metadata": {},
     "output_type": "execute_result"
    }
   ],
   "source": [
    "telemetry.head(5)"
   ]
  },
  {
   "cell_type": "markdown",
   "metadata": {},
   "source": [
    "This has now put the Easting and Northing values in a form that is mathematically equivalent to what they were previously, but are now encoded to protect the actual locations."
   ]
  },
  {
   "attachments": {},
   "cell_type": "markdown",
   "metadata": {},
   "source": [
    "## Combine date and time"
   ]
  },
  {
   "attachments": {},
   "cell_type": "markdown",
   "metadata": {},
   "source": [
    "The date and time fields are combined into one named DateTime and the resulting column is converted into a timestamp."
   ]
  },
  {
   "cell_type": "code",
   "execution_count": 5,
   "metadata": {},
   "outputs": [
    {
     "data": {
      "text/html": [
       "<div>\n",
       "<style scoped>\n",
       "    .dataframe tbody tr th:only-of-type {\n",
       "        vertical-align: middle;\n",
       "    }\n",
       "\n",
       "    .dataframe tbody tr th {\n",
       "        vertical-align: top;\n",
       "    }\n",
       "\n",
       "    .dataframe thead th {\n",
       "        text-align: right;\n",
       "    }\n",
       "</style>\n",
       "<table border=\"1\" class=\"dataframe\">\n",
       "  <thead>\n",
       "    <tr style=\"text-align: right;\">\n",
       "      <th></th>\n",
       "      <th>Date</th>\n",
       "      <th>Time</th>\n",
       "      <th>Easting</th>\n",
       "      <th>Northing</th>\n",
       "      <th>WaterDepth</th>\n",
       "      <th>Roll</th>\n",
       "      <th>Pitch</th>\n",
       "      <th>Heading</th>\n",
       "      <th>Tide</th>\n",
       "      <th>DateTime</th>\n",
       "    </tr>\n",
       "  </thead>\n",
       "  <tbody>\n",
       "    <tr>\n",
       "      <th>0</th>\n",
       "      <td>20-02-27</td>\n",
       "      <td>20:50:47.502</td>\n",
       "      <td>0.158187</td>\n",
       "      <td>0.410159</td>\n",
       "      <td>0.619607</td>\n",
       "      <td>-6.3</td>\n",
       "      <td>2.0</td>\n",
       "      <td>19.9</td>\n",
       "      <td>0.0</td>\n",
       "      <td>1.582837e+12</td>\n",
       "    </tr>\n",
       "    <tr>\n",
       "      <th>1</th>\n",
       "      <td>20-02-27</td>\n",
       "      <td>20:50:47.502</td>\n",
       "      <td>0.158187</td>\n",
       "      <td>0.410159</td>\n",
       "      <td>0.038946</td>\n",
       "      <td>-6.3</td>\n",
       "      <td>2.0</td>\n",
       "      <td>19.9</td>\n",
       "      <td>0.0</td>\n",
       "      <td>1.582837e+12</td>\n",
       "    </tr>\n",
       "    <tr>\n",
       "      <th>2</th>\n",
       "      <td>20-02-27</td>\n",
       "      <td>20:50:49.416</td>\n",
       "      <td>0.534407</td>\n",
       "      <td>0.535898</td>\n",
       "      <td>0.038946</td>\n",
       "      <td>-5.0</td>\n",
       "      <td>3.1</td>\n",
       "      <td>22.8</td>\n",
       "      <td>0.0</td>\n",
       "      <td>1.582837e+12</td>\n",
       "    </tr>\n",
       "    <tr>\n",
       "      <th>3</th>\n",
       "      <td>20-02-27</td>\n",
       "      <td>20:50:49.416</td>\n",
       "      <td>0.534311</td>\n",
       "      <td>0.535924</td>\n",
       "      <td>0.042081</td>\n",
       "      <td>-5.0</td>\n",
       "      <td>3.1</td>\n",
       "      <td>22.8</td>\n",
       "      <td>0.0</td>\n",
       "      <td>1.582837e+12</td>\n",
       "    </tr>\n",
       "    <tr>\n",
       "      <th>4</th>\n",
       "      <td>20-02-27</td>\n",
       "      <td>20:50:49.416</td>\n",
       "      <td>0.533734</td>\n",
       "      <td>0.536254</td>\n",
       "      <td>0.046682</td>\n",
       "      <td>-5.0</td>\n",
       "      <td>3.1</td>\n",
       "      <td>22.8</td>\n",
       "      <td>0.0</td>\n",
       "      <td>1.582837e+12</td>\n",
       "    </tr>\n",
       "  </tbody>\n",
       "</table>\n",
       "</div>"
      ],
      "text/plain": [
       "       Date          Time   Easting  Northing  WaterDepth  Roll  Pitch  \\\n",
       "0  20-02-27  20:50:47.502  0.158187  0.410159    0.619607  -6.3    2.0   \n",
       "1  20-02-27  20:50:47.502  0.158187  0.410159    0.038946  -6.3    2.0   \n",
       "2  20-02-27  20:50:49.416  0.534407  0.535898    0.038946  -5.0    3.1   \n",
       "3  20-02-27  20:50:49.416  0.534311  0.535924    0.042081  -5.0    3.1   \n",
       "4  20-02-27  20:50:49.416  0.533734  0.536254    0.046682  -5.0    3.1   \n",
       "\n",
       "   Heading  Tide      DateTime  \n",
       "0     19.9   0.0  1.582837e+12  \n",
       "1     19.9   0.0  1.582837e+12  \n",
       "2     22.8   0.0  1.582837e+12  \n",
       "3     22.8   0.0  1.582837e+12  \n",
       "4     22.8   0.0  1.582837e+12  "
      ]
     },
     "execution_count": 5,
     "metadata": {},
     "output_type": "execute_result"
    }
   ],
   "source": [
    "from datetime import datetime\n",
    "\n",
    "telemetry['DateTime'] = telemetry['Date'] + ' ' + telemetry['Time']\n",
    "\n",
    "def convert_to_unix(col):\n",
    "\td = datetime.strptime(col, '%y-%m-%d %H:%M:%S.%f')\n",
    "\treturn d.timestamp() * 1000\n",
    "\n",
    "telemetry['DateTime'] = telemetry['DateTime'].map(convert_to_unix)\n",
    "telemetry.head(5)"
   ]
  },
  {
   "attachments": {},
   "cell_type": "markdown",
   "metadata": {},
   "source": [
    "We can then remove the unneeded date and time columns:s"
   ]
  },
  {
   "cell_type": "code",
   "execution_count": 6,
   "metadata": {},
   "outputs": [],
   "source": [
    "telemetry.drop(columns=['Date', 'Time'], inplace=True)\n",
    "telemetry['DateTimeNorm'] = normalise('DateTime')"
   ]
  },
  {
   "cell_type": "markdown",
   "metadata": {},
   "source": [
    "## Empty Values\n",
    "The Tide column appears at first glance to consist only of values of `0.0`. We can check this by finding the unique values:"
   ]
  },
  {
   "cell_type": "code",
   "execution_count": 7,
   "metadata": {},
   "outputs": [
    {
     "data": {
      "text/plain": [
       "array([0.])"
      ]
     },
     "execution_count": 7,
     "metadata": {},
     "output_type": "execute_result"
    }
   ],
   "source": [
    "telemetry['Tide'].unique()"
   ]
  },
  {
   "attachments": {},
   "cell_type": "markdown",
   "metadata": {},
   "source": [
    "This column only contains 0.0, which won't be useful to us, so we can drop this column."
   ]
  },
  {
   "cell_type": "code",
   "execution_count": 8,
   "metadata": {},
   "outputs": [],
   "source": [
    "# Drop unnecessary fields\n",
    "telemetry.drop(columns=['Tide'], inplace=True)"
   ]
  },
  {
   "cell_type": "code",
   "execution_count": 9,
   "metadata": {},
   "outputs": [
    {
     "data": {
      "text/html": [
       "<div>\n",
       "<style scoped>\n",
       "    .dataframe tbody tr th:only-of-type {\n",
       "        vertical-align: middle;\n",
       "    }\n",
       "\n",
       "    .dataframe tbody tr th {\n",
       "        vertical-align: top;\n",
       "    }\n",
       "\n",
       "    .dataframe thead th {\n",
       "        text-align: right;\n",
       "    }\n",
       "</style>\n",
       "<table border=\"1\" class=\"dataframe\">\n",
       "  <thead>\n",
       "    <tr style=\"text-align: right;\">\n",
       "      <th></th>\n",
       "      <th>Easting</th>\n",
       "      <th>Northing</th>\n",
       "      <th>WaterDepth</th>\n",
       "      <th>Roll</th>\n",
       "      <th>Pitch</th>\n",
       "      <th>Heading</th>\n",
       "      <th>DateTime</th>\n",
       "      <th>DateTimeNorm</th>\n",
       "    </tr>\n",
       "  </thead>\n",
       "  <tbody>\n",
       "    <tr>\n",
       "      <th>0</th>\n",
       "      <td>0.158187</td>\n",
       "      <td>0.410159</td>\n",
       "      <td>0.619607</td>\n",
       "      <td>-6.3</td>\n",
       "      <td>2.0</td>\n",
       "      <td>19.9</td>\n",
       "      <td>1.582837e+12</td>\n",
       "      <td>0.000000</td>\n",
       "    </tr>\n",
       "    <tr>\n",
       "      <th>1</th>\n",
       "      <td>0.158187</td>\n",
       "      <td>0.410159</td>\n",
       "      <td>0.038946</td>\n",
       "      <td>-6.3</td>\n",
       "      <td>2.0</td>\n",
       "      <td>19.9</td>\n",
       "      <td>1.582837e+12</td>\n",
       "      <td>0.000000</td>\n",
       "    </tr>\n",
       "    <tr>\n",
       "      <th>2</th>\n",
       "      <td>0.534407</td>\n",
       "      <td>0.535898</td>\n",
       "      <td>0.038946</td>\n",
       "      <td>-5.0</td>\n",
       "      <td>3.1</td>\n",
       "      <td>22.8</td>\n",
       "      <td>1.582837e+12</td>\n",
       "      <td>0.000004</td>\n",
       "    </tr>\n",
       "    <tr>\n",
       "      <th>3</th>\n",
       "      <td>0.534311</td>\n",
       "      <td>0.535924</td>\n",
       "      <td>0.042081</td>\n",
       "      <td>-5.0</td>\n",
       "      <td>3.1</td>\n",
       "      <td>22.8</td>\n",
       "      <td>1.582837e+12</td>\n",
       "      <td>0.000004</td>\n",
       "    </tr>\n",
       "    <tr>\n",
       "      <th>4</th>\n",
       "      <td>0.533734</td>\n",
       "      <td>0.536254</td>\n",
       "      <td>0.046682</td>\n",
       "      <td>-5.0</td>\n",
       "      <td>3.1</td>\n",
       "      <td>22.8</td>\n",
       "      <td>1.582837e+12</td>\n",
       "      <td>0.000004</td>\n",
       "    </tr>\n",
       "  </tbody>\n",
       "</table>\n",
       "</div>"
      ],
      "text/plain": [
       "    Easting  Northing  WaterDepth  Roll  Pitch  Heading      DateTime  \\\n",
       "0  0.158187  0.410159    0.619607  -6.3    2.0     19.9  1.582837e+12   \n",
       "1  0.158187  0.410159    0.038946  -6.3    2.0     19.9  1.582837e+12   \n",
       "2  0.534407  0.535898    0.038946  -5.0    3.1     22.8  1.582837e+12   \n",
       "3  0.534311  0.535924    0.042081  -5.0    3.1     22.8  1.582837e+12   \n",
       "4  0.533734  0.536254    0.046682  -5.0    3.1     22.8  1.582837e+12   \n",
       "\n",
       "   DateTimeNorm  \n",
       "0      0.000000  \n",
       "1      0.000000  \n",
       "2      0.000004  \n",
       "3      0.000004  \n",
       "4      0.000004  "
      ]
     },
     "execution_count": 9,
     "metadata": {},
     "output_type": "execute_result"
    }
   ],
   "source": [
    "telemetry.head(5)"
   ]
  },
  {
   "cell_type": "markdown",
   "metadata": {},
   "source": [
    "## Write to CSV\n",
    "Now that we have processed the telemetry, we can write the dataframe to a file. Previously the format was ETR, but since this is equivalent to a space-delimited CSV, we have opted to write the data to a CSV to put it in a more commonly understood format."
   ]
  },
  {
   "cell_type": "code",
   "execution_count": 10,
   "metadata": {},
   "outputs": [],
   "source": [
    "telemetry.to_csv('../Api/src/data/telemetry.csv', index=False)\n",
    "telemetry.to_csv('./telemetry_cleaned.csv', index=False)"
   ]
  }
 ],
 "metadata": {
  "kernelspec": {
   "display_name": "Python 3",
   "language": "python",
   "name": "python3"
  },
  "language_info": {
   "codemirror_mode": {
    "name": "ipython",
    "version": 3
   },
   "file_extension": ".py",
   "mimetype": "text/x-python",
   "name": "python",
   "nbconvert_exporter": "python",
   "pygments_lexer": "ipython3",
   "version": "3.11.0"
  },
  "orig_nbformat": 4,
  "vscode": {
   "interpreter": {
    "hash": "901b79e026e03396fd1ffa7133844e9ea80e258ce34c66e1aabb5896bcb18463"
   }
  }
 },
 "nbformat": 4,
 "nbformat_minor": 2
}
